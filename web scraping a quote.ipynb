{
 "cells": [
  {
   "cell_type": "code",
   "execution_count": null,
   "metadata": {},
   "outputs": [],
   "source": [
    "import requests\n",
    "from bs4 import BeautifulSoup\n",
    "from datetime import datetime\n",
    "import time\n",
    "\n",
    "while True:\n",
    "    \n",
    "    url = \"https://www.brainyquote.com/quote_of_the_day\"\n",
    "    response =requests.request('GET', url)\n",
    "    \n",
    "    soup = BeautifulSoup(response.text, 'html.parser')\n",
    "    \n",
    "    data = soup.find_all('div', attrs={'class':'bqQt'})\n",
    "    data_a = data[1].find('div').text\n",
    "    \n",
    "    f = open('quote.txt', 'a')\n",
    "    now = datetime.now()\n",
    "    time_now = now.strftime(\"%d/%m/%Y\")\n",
    "    output = 'Quote of day '+time_now+' is '+data_a\n",
    "    f.write(output)\n",
    "    f.close()\n",
    "    time.sleep(86400)\n",
    "\n"
   ]
  },
  {
   "cell_type": "code",
   "execution_count": null,
   "metadata": {},
   "outputs": [],
   "source": []
  }
 ],
 "metadata": {
  "kernelspec": {
   "display_name": "Python 3",
   "language": "python",
   "name": "python3"
  },
  "language_info": {
   "codemirror_mode": {
    "name": "ipython",
    "version": 3
   },
   "file_extension": ".py",
   "mimetype": "text/x-python",
   "name": "python",
   "nbconvert_exporter": "python",
   "pygments_lexer": "ipython3",
   "version": "3.8.5"
  }
 },
 "nbformat": 4,
 "nbformat_minor": 4
}
